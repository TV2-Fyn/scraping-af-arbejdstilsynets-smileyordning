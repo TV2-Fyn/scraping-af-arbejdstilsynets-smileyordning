{
 "cells": [
  {
   "cell_type": "code",
   "execution_count": 11,
   "id": "c38ea9cd",
   "metadata": {},
   "outputs": [],
   "source": [
    "import requests\n",
    "from bs4 import BeautifulSoup\n",
    "import pandas as pd\n",
    "from io import StringIO\n",
    "\n",
    "header = {\n",
    "        \"User-Agent\": \"Mozilla/5.0 (Windows NT 6.1; Win64; x64) AppleWebKit/537.36 (KHTML, like Gecko) Chrome/63.0.3239.84 Safari/537.36\"\n",
    "    }\n",
    "url = \"https://websmiley.at.dk/websmiley/advancedsearchform.aspx\"\n",
    "\n",
    "r = requests.get(url,headers=header)\n",
    "\n",
    "if r.status_code == 200:\n",
    "    soup = BeautifulSoup(r.content, \"html.parser\")\n",
    "    \n",
    "    viewstate = soup.select(\"#__VIEWSTATE\")[0]['value']\n",
    "    eventvalidation = soup.select(\"#__EVENTVALIDATION\")[0]['value']\n",
    "    \n",
    "    \n",
    "    formData = {\n",
    "        '__EVENTVALIDATION': eventvalidation,\n",
    "        '__VIEWSTATE': viewstate,\n",
    "        '__EVENTTARGET': '',\n",
    "        'companyName': 'Virksomhedens navn',\n",
    "        'cvrNr': 'CVR-nr.',\n",
    "        'pNr': 'P-nr.',\n",
    "        'ddlBrancheGrupper':0,\n",
    "        'ddlRegioner':1083,\n",
    "        'ddlSmiley':0,\n",
    "        'btnDownload': 'Download smileydata'\n",
    "        \n",
    "        \n",
    "    }\n",
    "    \n",
    "\n",
    "r = requests.post(url, data=formData, headers=header)\n",
    "\n"
   ]
  },
  {
   "cell_type": "code",
   "execution_count": 27,
   "id": "6708424d",
   "metadata": {},
   "outputs": [],
   "source": [
    "text = r.text\n",
    "\n",
    "df = pd.read_csv(StringIO(text),sep=\";\",keep_default_na=False)\n",
    "\n",
    "df.columns.tolist()\n",
    "\n",
    "roede_smileyer = df[(df[\" SMILEY\"] == 'rød')&(df[\" POSTNR\"].astype(int) > 4999)&(df[\" POSTNR\"].astype(int) < 6000)]\n",
    "\n",
    "roede_smileyer = roede_smileyer.sort_values(\" SMILEY_DATO\", ascending=False)\n",
    "\n",
    "roede_smileyer.to_csv(\"roede_smileyer_paa_fyn.csv\")"
   ]
  },
  {
   "cell_type": "code",
   "execution_count": null,
   "id": "845b85a1",
   "metadata": {},
   "outputs": [],
   "source": []
  },
  {
   "cell_type": "code",
   "execution_count": null,
   "id": "e2b528c8",
   "metadata": {},
   "outputs": [],
   "source": []
  }
 ],
 "metadata": {
  "kernelspec": {
   "display_name": "Python 3 (ipykernel)",
   "language": "python",
   "name": "python3"
  },
  "language_info": {
   "codemirror_mode": {
    "name": "ipython",
    "version": 3
   },
   "file_extension": ".py",
   "mimetype": "text/x-python",
   "name": "python",
   "nbconvert_exporter": "python",
   "pygments_lexer": "ipython3",
   "version": "3.10.5"
  }
 },
 "nbformat": 4,
 "nbformat_minor": 5
}
